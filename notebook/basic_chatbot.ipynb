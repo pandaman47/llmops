{
 "cells": [
  {
   "cell_type": "code",
   "execution_count": 1,
   "id": "2d7d3803",
   "metadata": {},
   "outputs": [
    {
     "data": {
      "text/plain": [
       "True"
      ]
     },
     "execution_count": 1,
     "metadata": {},
     "output_type": "execute_result"
    }
   ],
   "source": [
    "## Basic chatbot with langgraph\n",
    "import os\n",
    "from dotenv import load_dotenv\n",
    "load_dotenv()"
   ]
  },
  {
   "cell_type": "code",
   "execution_count": 2,
   "id": "d689f531",
   "metadata": {},
   "outputs": [],
   "source": [
    "from typing import Annotated\n",
    "\n",
    "from typing_extensions import TypedDict\n",
    "\n",
    "from langgraph.graph import StateGraph, START, END\n",
    "from langgraph.graph.message import add_messages ##reducers\n",
    "from langgraph.graph import MessagesState"
   ]
  },
  {
   "cell_type": "code",
   "execution_count": 3,
   "id": "206777b5",
   "metadata": {},
   "outputs": [],
   "source": [
    "class State(TypedDict):\n",
    "    # Messages have the type \"list\".\n",
    "    messages:Annotated[list, add_messages]\n",
    "\n",
    "graph_builder = StateGraph(State)"
   ]
  },
  {
   "cell_type": "code",
   "execution_count": 4,
   "id": "d75c899e",
   "metadata": {},
   "outputs": [
    {
     "data": {
      "text/plain": [
       "<langgraph.graph.state.StateGraph at 0x1ca73880c90>"
      ]
     },
     "execution_count": 4,
     "metadata": {},
     "output_type": "execute_result"
    }
   ],
   "source": [
    "graph_builder"
   ]
  },
  {
   "cell_type": "code",
   "execution_count": null,
   "id": "be643d8c",
   "metadata": {},
   "outputs": [],
   "source": []
  },
  {
   "cell_type": "code",
   "execution_count": 5,
   "id": "93c4e92c",
   "metadata": {},
   "outputs": [],
   "source": [
    "from langchain_groq import ChatGroq\n"
   ]
  },
  {
   "cell_type": "code",
   "execution_count": 6,
   "id": "18253544",
   "metadata": {},
   "outputs": [],
   "source": [
    "llm = ChatGroq(model=\"gemma2-9b-it\")"
   ]
  },
  {
   "cell_type": "code",
   "execution_count": 7,
   "id": "6c4f130c",
   "metadata": {},
   "outputs": [],
   "source": [
    "## Node functionality\n",
    "def chatbot(state:State):\n",
    "    return {\"messages\": [llm.invoke(state[\"messages\"])]}"
   ]
  },
  {
   "cell_type": "code",
   "execution_count": 8,
   "id": "85c80a4d",
   "metadata": {},
   "outputs": [],
   "source": [
    "graph_builder=StateGraph(State)\n",
    "graph_builder.add_node(\"llmchatbot\", chatbot)\n",
    "graph_builder.add_edge(START, \"llmchatbot\")\n",
    "graph_builder.add_edge(\"llmchatbot\", END)\n",
    "\n",
    "# compile\n",
    "graph = graph_builder.compile()"
   ]
  },
  {
   "cell_type": "code",
   "execution_count": 9,
   "id": "bda6ab6c",
   "metadata": {},
   "outputs": [
    {
     "data": {
      "image/png": "[encoded data removed]",
      "text/plain": [
       "<IPython.core.display.Image object>"
      ]
     },
     "metadata": {},
     "output_type": "display_data"
    }
   ],
   "source": [
    "## Visualize\n",
    "from IPython.display import Image, display\n",
    "\n",
    "try:\n",
    "    display(Image(graph.get_graph().draw_mermaid_png()))\n",
    "except Exception:\n",
    "    pass"
   ]
  },
  {
   "cell_type": "code",
   "execution_count": 10,
   "id": "416ce482",
   "metadata": {},
   "outputs": [
    {
     "data": {
      "text/plain": [
       "{'messages': [HumanMessage(content='Hi', additional_kwargs={}, response_metadata={}, id='f2892dfb-f512-46c8-9523-4ad8a683f1be'),\n",
       "  AIMessage(content='Hello! 👋  How can I help you today? 😊\\n', additional_kwargs={}, response_metadata={'token_usage': {'completion_tokens': 15, 'prompt_tokens': 10, 'total_tokens': 25, 'completion_time': 0.027272727, 'prompt_time': 0.00117709, 'queue_time': 0.252896071, 'total_time': 0.028449817}, 'model_name': 'gemma2-9b-it', 'system_fingerprint': 'fp_10c08bf97d', 'service_tier': 'on_demand', 'finish_reason': 'stop', 'logprobs': None}, id='run--cb045589-fff7-4924-96af-799fd812e18d-0', usage_metadata={'input_tokens': 10, 'output_tokens': 15, 'total_tokens': 25})]}"
      ]
     },
     "execution_count": 10,
     "metadata": {},
     "output_type": "execute_result"
    }
   ],
   "source": [
    "##how to run it\n",
    "graph.invoke({\"messages\":\"Hi\"})"
   ]
  },
  {
   "cell_type": "code",
   "execution_count": 11,
   "id": "e5cfad95",
   "metadata": {},
   "outputs": [],
   "source": [
    "## alternate initialization\n",
    "\n",
    "def chatbot1(state: MessagesState):\n",
    "    return {\"messages\": [llm.invoke(state[\"messages\"])]}"
   ]
  },
  {
   "cell_type": "code",
   "execution_count": 12,
   "id": "c39d1336",
   "metadata": {},
   "outputs": [],
   "source": [
    "gb1=StateGraph(State)\n",
    "gb1.add_node(\"llmchatbot1\", chatbot1)\n",
    "gb1.add_edge(START, \"llmchatbot1\")\n",
    "gb1.add_edge(\"llmchatbot1\", END)\n",
    "\n",
    "# compile\n",
    "graph1 = gb1.compile()"
   ]
  },
  {
   "cell_type": "code",
   "execution_count": 13,
   "id": "56095bbf",
   "metadata": {},
   "outputs": [
    {
     "data": {
      "image/png": "[encoded data removed]",
      "text/plain": [
       "<IPython.core.display.Image object>"
      ]
     },
     "metadata": {},
     "output_type": "display_data"
    }
   ],
   "source": [
    "## Visualize\n",
    "from IPython.display import Image, display\n",
    "\n",
    "try:\n",
    "    display(Image(graph1.get_graph().draw_mermaid_png()))\n",
    "except Exception:\n",
    "    pass"
   ]
  },
  {
   "cell_type": "code",
   "execution_count": 14,
   "id": "d805b4cc",
   "metadata": {},
   "outputs": [
    {
     "data": {
      "text/plain": [
       "{'messages': [HumanMessage(content='Hi', additional_kwargs={}, response_metadata={}, id='a3a891c7-a992-4601-b9e3-fd14f6a24e2a'),\n",
       "  AIMessage(content='Hi! 👋  How can I help you today?\\n', additional_kwargs={}, response_metadata={'token_usage': {'completion_tokens': 14, 'prompt_tokens': 10, 'total_tokens': 24, 'completion_time': 0.025454545, 'prompt_time': 0.00117202, 'queue_time': 0.249641457, 'total_time': 0.026626565}, 'model_name': 'gemma2-9b-it', 'system_fingerprint': 'fp_10c08bf97d', 'service_tier': 'on_demand', 'finish_reason': 'stop', 'logprobs': None}, id='run--32bcaf2c-078b-4495-b75c-4ed248f978f9-0', usage_metadata={'input_tokens': 10, 'output_tokens': 14, 'total_tokens': 24})]}"
      ]
     },
     "execution_count": 14,
     "metadata": {},
     "output_type": "execute_result"
    }
   ],
   "source": [
    "graph1.invoke({\"messages\":\"Hi\"})"
   ]
  },
  {
   "cell_type": "code",
   "execution_count": 15,
   "id": "de34cfbb",
   "metadata": {},
   "outputs": [
    {
     "name": "stdout",
     "output_type": "stream",
     "text": [
      "Donald John Trump is an American politician, media personality, and businessman who served as the 45th president of the United States from 2017 to 2021.\n",
      "\n",
      "**Here are some key facts about him:**\n",
      "\n",
      "* **Early Life and Business Career:** Born in Queens, New York, Trump inherited his father's real estate business and built a career in real estate development, hotels, and casinos. He became a prominent figure in New York City's elite circles.\n",
      "\n",
      "* **Media Personality:** Trump gained national attention in the 1980s through his flamboyant lifestyle and appearances on television shows like \"The Apprentice.\" He also owned several casinos and hotels.\n",
      "\n",
      "* **Political Career:**\n",
      "    * **2016 Presidential Election:** Trump ran for president as a Republican, campaigning on a populist platform that appealed to white working-class voters. He defeated Democratic nominee Hillary Clinton in a surprise victory.\n",
      "    * **Presidency (2017-2021):** Trump's presidency was marked by controversy and polarization. His policies included tax cuts, deregulation, and a hard-line stance on immigration. He also withdrew the United States from the Paris Agreement on climate change and the Iran nuclear deal.\n",
      "    * **Impeachment:** Trump was impeached by the House of Representatives twice, but he was acquitted by the Senate both times.\n",
      "\n",
      "* **Post-Presidency:**\n",
      "    * Trump continues to be a prominent figure in Republican politics and has hinted at running for president again in 2024.\n",
      "    * He faces multiple legal challenges, including investigations into his business dealings and his role in the January 6, 2021, attack on the U.S. Capitol.\n",
      "\n",
      "\n",
      "Trump's presidency was highly divisive and remains a subject of intense debate. He is a polarizing figure, with strong supporters and detractors.\n",
      "\n"
     ]
    }
   ],
   "source": [
    "for event in graph.stream({\"messages\":\"Hi, who is Trump?\"}):\n",
    "    for value in event.values():\n",
    "        print(value[\"messages\"][-1].content)"
   ]
  },
  {
   "cell_type": "code",
   "execution_count": null,
   "id": "cce759dc",
   "metadata": {},
   "outputs": [],
   "source": [
    "@tool\n",
    "def multi(a:int, b:int)-> int:\n",
    "    \"\"\"Multiply a and b\n",
    "\n",
    "    Args:\n",
    "        a(int): first int\n",
    "        b(int): second int\n",
    "    Returns:\n",
    "        int: output int\n",
    "    \"\"\"\n",
    "    return a*b\n"
   ]
  },
  {
   "cell_type": "code",
   "execution_count": 18,
   "id": "798fd605",
   "metadata": {},
   "outputs": [],
   "source": [
    "from langchain_core.tools import tool\n",
    "from langgraph.types import interrupt, Command\n",
    "\n",
    "\n",
    "@tool\n",
    "def human_assistance(query:str) -> str:\n",
    "    \"\"\"request assistance from a human\"\"\"\n",
    "    human_response=interrupt({\"query\": query})\n",
    "    return human_response[\"data\"]"
   ]
  },
  {
   "cell_type": "code",
   "execution_count": 19,
   "id": "950110f4",
   "metadata": {},
   "outputs": [
    {
     "ename": "NameError",
     "evalue": "name 'config' is not defined",
     "output_type": "error",
     "traceback": [
      "\u001b[31m---------------------------------------------------------------------------\u001b[39m",
      "\u001b[31mNameError\u001b[39m                                 Traceback (most recent call last)",
      "\u001b[36mCell\u001b[39m\u001b[36m \u001b[39m\u001b[32mIn[19]\u001b[39m\u001b[32m, line 5\u001b[39m\n\u001b[32m      1\u001b[39m human_response = (\u001b[33m\"\u001b[39m\u001b[33mwe are here to help. checkout langgraph to build your agent\u001b[39m\u001b[33m\"\u001b[39m)\n\u001b[32m      3\u001b[39m human_command = Command(resume={\u001b[33m\"\u001b[39m\u001b[33mdata\u001b[39m\u001b[33m\"\u001b[39m: human_response})\n\u001b[32m----> \u001b[39m\u001b[32m5\u001b[39m events = graph.stream(human_command, \u001b[43mconfig\u001b[49m, stream_mode=\u001b[33m\"\u001b[39m\u001b[33mvalues\u001b[39m\u001b[33m\"\u001b[39m)\n\u001b[32m      6\u001b[39m \u001b[38;5;28;01mfor\u001b[39;00m event \u001b[38;5;129;01min\u001b[39;00m events:\n\u001b[32m      7\u001b[39m     \u001b[38;5;28;01mif\u001b[39;00m \u001b[33m\"\u001b[39m\u001b[33mmessages\u001b[39m\u001b[33m\"\u001b[39m \u001b[38;5;129;01min\u001b[39;00m event:\n",
      "\u001b[31mNameError\u001b[39m: name 'config' is not defined"
     ]
    }
   ],
   "source": [
    "human_response = (\"we are here to help. checkout langgraph to build your agent\")\n",
    "\n",
    "human_command = Command(resume={\"data\": human_response})\n",
    "\n",
    "events = graph.stream(human_command, config, stream_mode=\"values\")\n",
    "for event in events:\n",
    "    if \"messages\" in event:\n",
    "        event[\"messages\"][-1].pretty_print()\n"
   ]
  },
  {
   "cell_type": "code",
   "execution_count": null,
   "id": "dd809dc8",
   "metadata": {},
   "outputs": [],
   "source": []
  }
 ],
 "metadata": {
  "kernelspec": {
   "display_name": "env",
   "language": "python",
   "name": "python3"
  },
  "language_info": {
   "codemirror_mode": {
    "name": "ipython",
    "version": 3
   },
   "file_extension": ".py",
   "mimetype": "text/x-python",
   "name": "python",
   "nbconvert_exporter": "python",
   "pygments_lexer": "ipython3",
   "version": "3.11.13"
  }
 },
 "nbformat": 4,
 "nbformat_minor": 5
}
